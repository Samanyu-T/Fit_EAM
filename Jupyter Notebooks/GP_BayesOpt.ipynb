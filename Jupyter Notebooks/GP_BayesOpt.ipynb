{
 "cells": [
  {
   "cell_type": "code",
   "execution_count": 1489,
   "metadata": {},
   "outputs": [],
   "source": [
    "import os\n",
    "import numpy as np\n",
    "import matplotlib.pyplot as plt\n",
    "from sklearn.gaussian_process import kernels, GaussianProcessRegressor\n",
    "from scipy.stats import norm\n",
    "\n",
    "if os.getcwd() == '/Users/cd8607/Documents/Fitting_Potential':\n",
    "    pass\n",
    "else:\n",
    "    os.chdir('../')\n",
    "\n",
    "whe = np.loadtxt('Potentials/W-He-Juslin.table',skiprows=6)[:,1:3]\n",
    "\n",
    "\n",
    "def zbl(rij, Zi, Zj):\n",
    "    \n",
    "    e0 = 55.26349406e-4\n",
    "\n",
    "    const = 1/(4*np.pi*e0)\n",
    "\n",
    "    a = 0.46850/(Zi**0.23 + Zj**0.23)\t\n",
    "\n",
    "    x = rij/a\n",
    "\n",
    "    x = x[:, np.newaxis]\n",
    "\n",
    "    amplitude = np.array([0.18175, 0.50986, 0.28022, 0.02817])\n",
    "    exponent = np.array([3.19980, 0.94229, 0.40290, 0.20162])\n",
    "\n",
    "    phi = np.sum(amplitude * np.exp(-exponent * x), axis=1)\n",
    "        \n",
    "    return const*phi*(Zi*Zj/rij)"
   ]
  },
  {
   "cell_type": "code",
   "execution_count": 1490,
   "metadata": {},
   "outputs": [],
   "source": [
    "class GP_BayesOpt():\n",
    "\n",
    "    def __init__(self, x_test, y_test, n_knots = 4):\n",
    "\n",
    "        self.n_knots = n_knots\n",
    "        \n",
    "        self.x_test = x_test\n",
    "        self.y_test = y_test\n",
    "\n",
    "    def rand_sample_points(self):\n",
    "\n",
    "        x_knot = np.linspace(0.5, 4, self.n_knots).reshape(-1,1)\n",
    "        y_knot = np.random.normal(loc = 0, scale = 1, size = (self.n_knots,1))\n",
    "\n",
    "        return np.vstack([0.25,x_knot, 6]), np.vstack([0,y_knot,0])\n",
    "\n",
    "    def gpr_fit(self, x = None, y = None):\n",
    "\n",
    "        if x is None or y is None:\n",
    "            \n",
    "            x, y = self.rand_sample_points()\n",
    "\n",
    "        kernel = kernels.ConstantKernel(1, constant_value_bounds='fixed')*kernels.RBF(1,length_scale_bounds='fixed')\n",
    "\n",
    "        self.gpr = GaussianProcessRegressor(kernel, alpha = 1e-3).fit(x, y)\n",
    "    \n",
    "\n",
    "    def loss(self):\n",
    "\n",
    "        y_predict = self.gpr.predict(self.x_test.reshape(-1,1))\n",
    "\n",
    "        return np.linalg.norm(y_predict-self.y_test)/len(self.y_test)\n",
    "    \n",
    "    def bayes_opt(self, n_samples):\n",
    "        \n",
    "        n_rand_samples  = n_samples//2\n",
    "\n",
    "        n_bayes_samples = n_samples - n_rand_samples\n",
    "\n",
    "        x_samples = np.zeros((n_samples, self.n_knots + 2))\n",
    "        y_samples = np.zeros((n_samples, self.n_knots + 2))\n",
    "\n",
    "        loss_samples = np.zeros((n_samples,))\n",
    "\n",
    "        for i in range(n_rand_samples):\n",
    "            \n",
    "            x_sample, y_sample = self.rand_sample_points()\n",
    "\n",
    "            x_samples[i] = x_sample.flatten()\n",
    "\n",
    "            y_samples[i] = y_sample.flatten()\n",
    "\n",
    "            loss_samples[i] = self.loss()\n",
    "\n",
    "        kernel = kernels.ConstantKernel(loss_samples[:n_rand_samples].mean(),constant_value_bounds='fixed') *\\\n",
    "                 kernels.RBF(10,length_scale_bounds='fixed')\n",
    "\n",
    "        self.gpr_bayes = GaussianProcessRegressor(kernel).fit(y_samples[:n_rand_samples],loss_samples[:n_rand_samples])\n",
    "\n",
    "        print(loss_samples[:n_rand_samples].min(), y_samples[loss_samples[:n_rand_samples].argmin()]) \n",
    "\n",
    "        "
   ]
  },
  {
   "cell_type": "code",
   "execution_count": 1491,
   "metadata": {},
   "outputs": [
    {
     "data": {
      "text/plain": [
       "0.054334396922324314"
      ]
     },
     "execution_count": 1491,
     "metadata": {},
     "output_type": "execute_result"
    }
   ],
   "source": [
    "x_test = whe[100:,0]\n",
    "y_test = whe[100:,1] - zbl(whe[100:,0], 74, 2)\n",
    "\n",
    "inst = GP_BayesOpt(x_test, y_test, 6)\n",
    "\n",
    "inst.gpr_fit()\n",
    "\n",
    "inst.loss()"
   ]
  },
  {
   "cell_type": "code",
   "execution_count": 1492,
   "metadata": {},
   "outputs": [
    {
     "data": {
      "text/plain": [
       "[<matplotlib.lines.Line2D at 0x292d9b890>]"
      ]
     },
     "execution_count": 1492,
     "metadata": {},
     "output_type": "execute_result"
    },
    {
     "data": {
      "image/png": "[encoded data removed]",
      "text/plain": [
       "<Figure size 640x480 with 1 Axes>"
      ]
     },
     "metadata": {},
     "output_type": "display_data"
    }
   ],
   "source": [
    "x_predict = np.linspace(0.5,4,100)\n",
    "y_predict = inst.gpr.predict(x_predict.reshape(-1,1))\n",
    "\n",
    "plt.plot(x_predict,y_predict)\n",
    "\n",
    "plt.plot(x_test, y_test)"
   ]
  },
  {
   "cell_type": "code",
   "execution_count": 1494,
   "metadata": {},
   "outputs": [
    {
     "name": "stdout",
     "output_type": "stream",
     "text": [
      "0.054334396922324314 [ 0.         -0.38719287 -0.90516159 -1.28848556  0.18039333 -1.59001429\n",
      "  1.73065318  0.        ]\n",
      "50930.80987340519\n",
      "0.233**2 * RBF(length_scale=10)\n"
     ]
    }
   ],
   "source": [
    "inst.bayes_opt(10000)\n",
    "\n",
    "print(inst.gpr_bayes.log_marginal_likelihood())\n",
    "\n",
    "print(inst.gpr_bayes.kernel_)\n"
   ]
  }
 ],
 "metadata": {
  "kernelspec": {
   "display_name": "base",
   "language": "python",
   "name": "python3"
  },
  "language_info": {
   "codemirror_mode": {
    "name": "ipython",
    "version": 3
   },
   "file_extension": ".py",
   "mimetype": "text/x-python",
   "name": "python",
   "nbconvert_exporter": "python",
   "pygments_lexer": "ipython3",
   "version": "3.11.4"
  },
  "orig_nbformat": 4
 },
 "nbformat": 4,
 "nbformat_minor": 2
}
