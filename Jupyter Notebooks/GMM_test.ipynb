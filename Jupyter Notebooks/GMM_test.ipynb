{
 "cells": [
  {
   "cell_type": "code",
   "execution_count": 35,
   "metadata": {},
   "outputs": [],
   "source": [
    "from sklearn.mixture import GaussianMixture\n",
    "import matplotlib.pyplot as plt\n",
    "import numpy as np \n",
    "import psutil\n",
    "import os"
   ]
  },
  {
   "cell_type": "code",
   "execution_count": 38,
   "metadata": {},
   "outputs": [
    {
     "name": "stdout",
     "output_type": "stream",
     "text": [
      "3.7393696430922967 13.928814217045174\n",
      "The process is using 10 core(s).\n",
      "1 3471.2724017456408\n",
      "2 3598.479264440989 3471.2724017456408\n",
      "1\n",
      "[ 17.77079219  -1.75659803   3.91159664 -36.28906608   0.28932017\n",
      "  -7.04295626  32.83283369]\n"
     ]
    }
   ],
   "source": [
    "N = int(1e5)\n",
    "Ndim = 8\n",
    "\n",
    "data_lst = []\n",
    "for i in range(6):\n",
    "\n",
    "    mean = (10*i + 1)*np.random.rand(Ndim)\n",
    "    cov = np.random.rand(Ndim,Ndim)\n",
    "\n",
    "    cov = cov@cov.T\n",
    "    \n",
    "    data_lst.append(np.random.multivariate_normal(mean=mean, cov=cov, size=(N)))\n",
    "\n",
    "    # print(mean, cov)\n",
    "\n",
    "# data = np.vstack([x for x in data_lst])\n",
    "\n",
    "data = np.loadtxt('../../W-He_102/Core_-1/Sample/Filtered_Samples.txt')\n",
    "\n",
    "print(data.mean(), data.std())\n",
    "# Get the process ID\n",
    "process_id = os.getpid()\n",
    "\n",
    "# Get the process object\n",
    "process = psutil.Process(process_id)\n",
    "\n",
    "# Get the number of CPU cores used by the process\n",
    "cpu_cores = psutil.cpu_count(logical=False)  # logical=False gives you physical cores\n",
    "\n",
    "print(f\"The process is using {cpu_cores} core(s).\")\n",
    "\n",
    "# print(gm.means_, gm.covariances_)\n",
    "\n",
    "# print(gm.converged_, gm.n_iter_)\n",
    "\n",
    "# Fit GMMs with different numbers of components\n",
    "\n",
    "cmp = 1\n",
    "gmm = GaussianMixture(n_components=cmp, covariance_type='full', reg_covar=0.1)\n",
    "gmm.fit(data)\n",
    "bic_val = gmm.bic(data)\n",
    "bic_val_prev = bic_val\n",
    "print(cmp, bic_val)\n",
    "while True:\n",
    "\n",
    "    cmp += 1\n",
    "    bic_val_prev = bic_val\n",
    "    gmm = GaussianMixture(n_components=cmp, covariance_type='full', reg_covar=0.1)\n",
    "    gmm.fit(data)\n",
    "    bic_val = gmm.bic(data)\n",
    "    print(cmp, bic_val, bic_val_prev)\n",
    "\n",
    "    if 1.01*bic_val > bic_val_prev:\n",
    "        break\n",
    "\n",
    "print(cmp - 1)\n",
    "gmm = GaussianMixture(n_components=cmp - 1 , covariance_type='full')\n",
    "gmm.fit(data)\n",
    "\n",
    "print(data[0,:])"
   ]
  },
  {
   "cell_type": "code",
   "execution_count": 39,
   "metadata": {},
   "outputs": [
    {
     "name": "stdout",
     "output_type": "stream",
     "text": [
      "[[[ 2.76307926e+01 -4.02180761e-01  1.13948660e-01  5.51344492e+00\n",
      "   -1.17563398e+00  4.00232178e+00 -1.01035807e+01]\n",
      "  [-4.02180761e-01  1.16769723e+00 -8.34315396e-01  2.94379531e+00\n",
      "    2.44350670e-01 -6.88919880e-01 -3.43768903e+00]\n",
      "  [ 1.13948660e-01 -8.34315396e-01  3.40274280e+01 -3.79262503e+01\n",
      "    1.46283488e+00 -6.94700046e+00  2.47842724e+00]\n",
      "  [ 5.51344492e+00  2.94379531e+00 -3.79262503e+01  7.81575922e+02\n",
      "    2.23065110e+00  1.37010148e+01 -1.00502215e+02]\n",
      "  [-1.17563398e+00  2.44350670e-01  1.46283488e+00  2.23065110e+00\n",
      "    5.48650277e-01 -2.20945363e+00  3.64668725e+00]\n",
      "  [ 4.00232178e+00 -6.88919880e-01 -6.94700046e+00  1.37010148e+01\n",
      "   -2.20945363e+00  1.83990480e+01 -5.67921680e+01]\n",
      "  [-1.01035807e+01 -3.43768903e+00  2.47842724e+00 -1.00502215e+02\n",
      "    3.64668725e+00 -5.67921680e+01  2.43216649e+02]]]\n"
     ]
    },
    {
     "data": {
      "image/png": "[encoded data removed]",
      "text/plain": [
       "<Figure size 640x480 with 1 Axes>"
      ]
     },
     "metadata": {},
     "output_type": "display_data"
    }
   ],
   "source": [
    "plt.scatter(data[:,1], data[:,2])\n",
    "plt.scatter(gmm.means_[:,1], gmm.means_[:,2])\n",
    "\n",
    "print(gmm.covariances_)"
   ]
  }
 ],
 "metadata": {
  "kernelspec": {
   "display_name": "base",
   "language": "python",
   "name": "python3"
  },
  "language_info": {
   "codemirror_mode": {
    "name": "ipython",
    "version": 3
   },
   "file_extension": ".py",
   "mimetype": "text/x-python",
   "name": "python",
   "nbconvert_exporter": "python",
   "pygments_lexer": "ipython3",
   "version": "3.11.4"
  }
 },
 "nbformat": 4,
 "nbformat_minor": 2
}
