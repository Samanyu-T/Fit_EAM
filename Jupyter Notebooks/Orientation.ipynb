{
 "cells": [
  {
   "cell_type": "code",
   "execution_count": 23,
   "metadata": {},
   "outputs": [
    {
     "name": "stdout",
     "output_type": "stream",
     "text": [
      "['neb0', 'neb1', 'neb8']\n",
      "bulk\n"
     ]
    },
    {
     "data": {
      "text/plain": [
       "array([[1],\n",
       "       [2],\n",
       "       [3],\n",
       "       [4],\n",
       "       [5]])"
      ]
     },
     "execution_count": 23,
     "metadata": {},
     "output_type": "execute_result"
    }
   ],
   "source": [
    "import os\n",
    "import numpy as np \n",
    "import glob\n",
    "import matplotlib.pyplot as plt\n",
    "def test(orientx, orienty, orientz):\n",
    "\n",
    "    R = np.vstack([orientx, orienty, orientz]).T\n",
    "    R = np.linalg.inv(R)\n",
    "\n",
    "    tet = np.array([0.5, 0.25, 0])\n",
    "\n",
    "    tet = tet @ R\n",
    "    \n",
    "    # print(tet)\n",
    "\n",
    "    tet = (tet + 2) % 1\n",
    "    \n",
    "    print(tet)\n",
    "\n",
    "folder_path = '../../Lammps_Dump/Surface/'\n",
    "\n",
    "folder_paths = glob.glob(os.path.join(folder_path,'111','New_Depth_*.data'))\n",
    "print(sorted(['neb1', 'neb0', 'neb8']))\n",
    "\n",
    "string = 'bulk/text'\n",
    "print(string.split('/')[-2])\n",
    "\n",
    "x = [[1, 2], [3, 4, 5]]\n",
    "\n",
    "np.hstack(x).reshape(-1, 1)"
   ]
  },
  {
   "cell_type": "code",
   "execution_count": 24,
   "metadata": {},
   "outputs": [
    {
     "name": "stdout",
     "output_type": "stream",
     "text": [
      "[0.5  0.25 0.  ]\n",
      "[0.25 0.25 0.75]\n",
      "[0.125 0.25  0.125]\n"
     ]
    }
   ],
   "source": [
    "\n",
    "''' Use for 100 surface '''\n",
    "orientx = [1, 0, 0]\n",
    "orienty = [0, 1, 0]\n",
    "orientz = [0 ,0, 1]\n",
    "test(orientx, orienty, orientz)\n",
    "\n",
    "''' Use for 110 surface '''\n",
    "orientx = [1, 1, 0]\n",
    "orienty = [0, 0,-1]\n",
    "orientz = [-1,1, 0]\n",
    "test(orientx, orienty, orientz)\n",
    "\n",
    "''' Use for 111 surface '''\n",
    "orientx = [1, 1, 1]\n",
    "orienty = [-1,2,-1]\n",
    "orientz = [-1,0, 1]\n",
    "test(orientx, orienty, orientz)"
   ]
  },
  {
   "cell_type": "code",
   "execution_count": 25,
   "metadata": {},
   "outputs": [
    {
     "data": {
      "text/plain": [
       "<matplotlib.collections.PathCollection at 0x11292fa50>"
      ]
     },
     "execution_count": 25,
     "metadata": {},
     "output_type": "execute_result"
    },
    {
     "data": {
      "image/png": "[encoded data removed]",
      "text/plain": [
       "<Figure size 640x480 with 1 Axes>"
      ]
     },
     "metadata": {},
     "output_type": "display_data"
    }
   ],
   "source": [
    "data_lst = []\n",
    "for file in glob.glob('../../Test_Data/Surface/100/*.txt'):\n",
    "    data = np.loadtxt(file)\n",
    "    data_lst.append(data)\n",
    "\n",
    "data = np.vstack(data_lst)\n",
    "data[:,1] -= data[:,1].min()\n",
    "\n",
    "plt.scatter(data[:,0], data[:,1])"
   ]
  }
 ],
 "metadata": {
  "kernelspec": {
   "display_name": "base",
   "language": "python",
   "name": "python3"
  },
  "language_info": {
   "codemirror_mode": {
    "name": "ipython",
    "version": 3
   },
   "file_extension": ".py",
   "mimetype": "text/x-python",
   "name": "python",
   "nbconvert_exporter": "python",
   "pygments_lexer": "ipython3",
   "version": "3.11.4"
  }
 },
 "nbformat": 4,
 "nbformat_minor": 2
}
