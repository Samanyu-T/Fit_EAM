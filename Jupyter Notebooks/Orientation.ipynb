{
 "cells": [
  {
   "cell_type": "code",
   "execution_count": 3,
   "metadata": {},
   "outputs": [
    {
     "name": "stdout",
     "output_type": "stream",
     "text": [
      "[0.]\n"
     ]
    }
   ],
   "source": [
    "import os\n",
    "import numpy as np \n",
    "print(np.linspace(0,9,1))\n",
    "def test(orientx, orienty, orientz):\n",
    "\n",
    "    R = np.vstack([orientx, orienty, orientz]).T\n",
    "    R = np.linalg.inv(R)\n",
    "\n",
    "    tet = np.array([0.5, 0.25, 0])\n",
    "\n",
    "    tet = tet @ R\n",
    "    \n",
    "    print(tet)\n",
    "\n",
    "    tet = (tet + 2) % 1\n",
    "    \n",
    "    print(tet)"
   ]
  },
  {
   "cell_type": "code",
   "execution_count": 4,
   "metadata": {},
   "outputs": [
    {
     "name": "stdout",
     "output_type": "stream",
     "text": [
      "[0.5  0.25 0.  ]\n",
      "[0.5  0.25 0.  ]\n",
      "[ 0.25  0.25 -0.25]\n",
      "[0.25 0.25 0.75]\n",
      "[0.125 0.25  0.125]\n",
      "[0.125 0.25  0.125]\n"
     ]
    }
   ],
   "source": [
    "\n",
    "''' Use for 100 surface '''\n",
    "orientx = [1, 0, 0]\n",
    "orienty = [0, 1, 0]\n",
    "orientz = [0 ,0, 1]\n",
    "test(orientx, orienty, orientz)\n",
    "\n",
    "''' Use for 110 surface '''\n",
    "orientx = [1, 1, 0]\n",
    "orienty = [0, 0,-1]\n",
    "orientz = [-1,1, 0]\n",
    "test(orientx, orienty, orientz)\n",
    "\n",
    "''' Use for 111 surface '''\n",
    "orientx = [1, 1, 1]\n",
    "orienty = [-1,2,-1]\n",
    "orientz = [-1,0, 1]\n",
    "test(orientx, orienty, orientz)"
   ]
  },
  {
   "cell_type": "code",
   "execution_count": null,
   "metadata": {},
   "outputs": [],
   "source": [
    "\n",
    "\n",
    "np.round(x,3) >= np.round(y, 3)"
   ]
  }
 ],
 "metadata": {
  "kernelspec": {
   "display_name": "base",
   "language": "python",
   "name": "python3"
  },
  "language_info": {
   "codemirror_mode": {
    "name": "ipython",
    "version": 3
   },
   "file_extension": ".py",
   "mimetype": "text/x-python",
   "name": "python",
   "nbconvert_exporter": "python",
   "pygments_lexer": "ipython3",
   "version": "3.11.4"
  }
 },
 "nbformat": 4,
 "nbformat_minor": 2
}
