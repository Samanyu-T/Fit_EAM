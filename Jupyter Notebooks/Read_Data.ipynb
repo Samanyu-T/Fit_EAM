{
 "cells": [
  {
   "cell_type": "code",
   "execution_count": 24,
   "metadata": {},
   "outputs": [],
   "source": [
    "import numpy as np\n",
    "import os\n"
   ]
  },
  {
   "cell_type": "code",
   "execution_count": 25,
   "metadata": {},
   "outputs": [
    {
     "ename": "NotADirectoryError",
     "evalue": "[Errno 20] Not a directory: '../../Archived_Data/Genetic_WHe_Pairwise/Genetic_Algorithm/.DS_Store'",
     "output_type": "error",
     "traceback": [
      "\u001b[0;31m---------------------------------------------------------------------------\u001b[0m",
      "\u001b[0;31mNotADirectoryError\u001b[0m                        Traceback (most recent call last)",
      "\u001b[1;32m/Users/cd8607/Documents/Fitting_Potential/Jupyter Notebooks/Read_Data.ipynb Cell 2\u001b[0m line \u001b[0;36m8\n\u001b[1;32m      <a href='vscode-notebook-cell:/Users/cd8607/Documents/Fitting_Potential/Jupyter%20Notebooks/Read_Data.ipynb#W1sZmlsZQ%3D%3D?line=4'>5</a>\u001b[0m     file\u001b[39m.\u001b[39mwrite(\u001b[39m'\u001b[39m\u001b[39m'\u001b[39m)\n\u001b[1;32m      <a href='vscode-notebook-cell:/Users/cd8607/Documents/Fitting_Potential/Jupyter%20Notebooks/Read_Data.ipynb#W1sZmlsZQ%3D%3D?line=6'>7</a>\u001b[0m \u001b[39mfor\u001b[39;00m core \u001b[39min\u001b[39;00m os\u001b[39m.\u001b[39mlistdir(main_folder):\n\u001b[0;32m----> <a href='vscode-notebook-cell:/Users/cd8607/Documents/Fitting_Potential/Jupyter%20Notebooks/Read_Data.ipynb#W1sZmlsZQ%3D%3D?line=7'>8</a>\u001b[0m     \u001b[39mfor\u001b[39;00m iteration \u001b[39min\u001b[39;00m os\u001b[39m.\u001b[39mlistdir(os\u001b[39m.\u001b[39mpath\u001b[39m.\u001b[39mjoin(main_folder,core)):\n\u001b[1;32m     <a href='vscode-notebook-cell:/Users/cd8607/Documents/Fitting_Potential/Jupyter%20Notebooks/Read_Data.ipynb#W1sZmlsZQ%3D%3D?line=9'>10</a>\u001b[0m         \u001b[39mif\u001b[39;00m iteration[\u001b[39m0\u001b[39m] \u001b[39m==\u001b[39m \u001b[39m'\u001b[39m\u001b[39mI\u001b[39m\u001b[39m'\u001b[39m:\n\u001b[1;32m     <a href='vscode-notebook-cell:/Users/cd8607/Documents/Fitting_Potential/Jupyter%20Notebooks/Read_Data.ipynb#W1sZmlsZQ%3D%3D?line=10'>11</a>\u001b[0m             \u001b[39mif\u001b[39;00m os\u001b[39m.\u001b[39mpath\u001b[39m.\u001b[39mexists(os\u001b[39m.\u001b[39mpath\u001b[39m.\u001b[39mjoin(main_folder,core, iteration, \u001b[39m'\u001b[39m\u001b[39mPopulation.txt\u001b[39m\u001b[39m'\u001b[39m)):\n",
      "\u001b[0;31mNotADirectoryError\u001b[0m: [Errno 20] Not a directory: '../../Archived_Data/Genetic_WHe_Pairwise/Genetic_Algorithm/.DS_Store'"
     ]
    }
   ],
   "source": [
    "main_folder = '../../Archived_Data/Genetic_WHe_Pairwise/Genetic_Algorithm/'\n",
    "with open('Filtered_Loss.txt', 'w') as file:\n",
    "    file.write('')\n",
    "with open('Filtered_Samples.txt', 'w') as file:\n",
    "    file.write('')\n",
    "\n",
    "for core in os.listdir(main_folder):\n",
    "    for iteration in os.listdir(os.path.join(main_folder,core)):\n",
    "\n",
    "        if iteration[0] == 'I':\n",
    "            if os.path.exists(os.path.join(main_folder,core, iteration, 'Population.txt')):\n",
    "                data = np.genfromtxt(os.path.join(main_folder,core, iteration, 'Loss.txt'), delimiter=' ')\n",
    "                samples = np.genfromtxt(os.path.join(main_folder,core, iteration, 'Population.txt'), delimiter=' ')\n",
    "                # Identify columns with NaN values\n",
    "                nan_columns = np.isnan(data[0,:])\n",
    "\n",
    "                # Remove columns with NaN values\n",
    "                data = data[:, ~nan_columns]\n",
    "\n",
    "                loss = (data[:,1] - 6.16)**2 + data[:,3]**2 + data[:,4]**2\n",
    "\n",
    "                condition = np.logical_and.reduce([loss < 0.1, np.abs(data[:, -6] - data[:, -1]) < 100e-1])\n",
    "                \n",
    "                filtered_idx = np.where(condition)[0]\n",
    "\n",
    "                with open('Filtered_Loss.txt', 'a') as file:\n",
    "                    for idx in filtered_idx:\n",
    "                        np.savetxt(file, data[idx,:], fmt='%f', newline=' ')\n",
    "                        file.write('\\n')\n",
    "                \n",
    "                with open('Filtered_Samples.txt', 'a') as file:\n",
    "                    for idx in filtered_idx:\n",
    "                        np.savetxt(file, samples[idx,:], fmt='%f', newline=' ')\n",
    "                        file.write('\\n')"
   ]
  }
 ],
 "metadata": {
  "kernelspec": {
   "display_name": "base",
   "language": "python",
   "name": "python3"
  },
  "language_info": {
   "codemirror_mode": {
    "name": "ipython",
    "version": 3
   },
   "file_extension": ".py",
   "mimetype": "text/x-python",
   "name": "python",
   "nbconvert_exporter": "python",
   "pygments_lexer": "ipython3",
   "version": "3.11.4"
  }
 },
 "nbformat": 4,
 "nbformat_minor": 2
}
