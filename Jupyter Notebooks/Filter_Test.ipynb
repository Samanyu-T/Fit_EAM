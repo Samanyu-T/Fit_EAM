{
 "cells": [
  {
   "cell_type": "code",
   "execution_count": 1,
   "metadata": {},
   "outputs": [],
   "source": [
    "import numpy as np\n",
    "import os \n",
    "import json\n",
    "os.chdir('../')"
   ]
  },
  {
   "cell_type": "code",
   "execution_count": 2,
   "metadata": {},
   "outputs": [],
   "source": [
    "threshold = 1\n",
    "filtered_idx = []\n",
    "N = 100\n",
    "\n",
    "for file_num in range(16):\n",
    "\n",
    "    data = np.loadtxt('Explore_Space/samples_%d.txt' % file_num, skiprows=1)\n",
    "\n",
    "    sorted_idx = np.argsort(data[:,0])\n",
    "\n",
    "    sorted_data = data[sorted_idx, :]\n",
    "\n",
    "    with open('Explore_Space/filtered_samples.%d.txt' % file_num, 'w') as file:\n",
    "\n",
    "        for idx in range(N):\n",
    "\n",
    "            np.savetxt(file, sorted_data[idx, 1:11], fmt = '%f', newline = ' ')\n",
    "            file.write('\\n')"
   ]
  },
  {
   "cell_type": "code",
   "execution_count": 3,
   "metadata": {},
   "outputs": [],
   "source": [
    "\n",
    "for i in range(16):\n",
    "\n",
    "    with open('Test_Samples.%d.txt' % i, 'w') as file:\n",
    "        file.write('Samples to Test \\n')\n",
    "\n",
    "    with open('Optimization_Files/Iteration_%d/Final_Optima.json' % i, 'r') as file:\n",
    "        data = json.load(file)\n",
    "\n",
    "        optima = np.array(data['Optima'])\n",
    "    \n",
    "    with open('Test/Test_Samples.%d.txt' % i, 'a') as file:\n",
    "        for sample in optima:\n",
    "            np.savetxt(file, sample, fmt = '%f', newline=' ')\n",
    "            file.write('\\n')\n"
   ]
  },
  {
   "cell_type": "code",
   "execution_count": 4,
   "metadata": {},
   "outputs": [
    {
     "name": "stdout",
     "output_type": "stream",
     "text": [
      "3\n",
      "47\n"
     ]
    }
   ],
   "source": [
    "loss_components = []\n",
    "loss_idx = []\n",
    "for i in range(16):\n",
    "\n",
    "    data = np.loadtxt('Test/Test_Loss.%d.txt' % i)\n",
    "\n",
    "    loss_idx.append(data[:,0].argmin())\n",
    "    loss_components.append( data[loss_idx[-1], :] )\n",
    "\n",
    "components = np.array(loss_components)\n",
    "\n",
    "print(components[:,0].argmin())\n",
    "print(loss_idx[components[:,0].argmin()])"
   ]
  },
  {
   "cell_type": "code",
   "execution_count": 6,
   "metadata": {},
   "outputs": [],
   "source": []
  }
 ],
 "metadata": {
  "kernelspec": {
   "display_name": "base",
   "language": "python",
   "name": "python3"
  },
  "language_info": {
   "codemirror_mode": {
    "name": "ipython",
    "version": 3
   },
   "file_extension": ".py",
   "mimetype": "text/x-python",
   "name": "python",
   "nbconvert_exporter": "python",
   "pygments_lexer": "ipython3",
   "version": "3.11.4"
  },
  "orig_nbformat": 4
 },
 "nbformat": 4,
 "nbformat_minor": 2
}
