{
 "cells": [
  {
   "cell_type": "code",
   "execution_count": 11,
   "metadata": {},
   "outputs": [],
   "source": [
    "import numpy as np\n",
    "import os \n",
    "import json\n",
    "# os.chdir('../')"
   ]
  },
  {
   "cell_type": "code",
   "execution_count": 12,
   "metadata": {},
   "outputs": [],
   "source": [
    "threshold = 1\n",
    "filtered_idx = []\n",
    "N = 100\n",
    "\n",
    "for file_num in range(16):\n",
    "\n",
    "    data = np.loadtxt('Explore_Space/samples_%d.txt' % file_num, skiprows=1)\n",
    "\n",
    "    sorted_idx = np.argsort(data[:,0])\n",
    "\n",
    "    sorted_data = data[sorted_idx, :]\n",
    "\n",
    "    with open('Explore_Space/filtered_samples.%d.txt' % file_num, 'w') as file:\n",
    "\n",
    "        for idx in range(N):\n",
    "\n",
    "            np.savetxt(file, sorted_data[idx, 1:11], fmt = '%f', newline = ' ')\n",
    "            file.write('\\n')"
   ]
  },
  {
   "cell_type": "code",
   "execution_count": 13,
   "metadata": {},
   "outputs": [],
   "source": [
    "\n",
    "for i in range(16):\n",
    "\n",
    "    with open('Test_Samples.%d.txt' % i, 'w') as file:\n",
    "        file.write('Samples to Test \\n')\n",
    "\n",
    "    with open('Optimization_Files/Iteration_%d/Final_Optima.json' % i, 'r') as file:\n",
    "        data = json.load(file)\n",
    "\n",
    "        optima = np.array(data['Optima'])\n",
    "    \n",
    "    with open('Test/Test_Samples.%d.txt' % i, 'a') as file:\n",
    "        for sample in optima:\n",
    "            np.savetxt(file, sample, fmt = '%f', newline=' ')\n",
    "            file.write('\\n')\n"
   ]
  },
  {
   "cell_type": "code",
   "execution_count": 21,
   "metadata": {},
   "outputs": [
    {
     "name": "stdout",
     "output_type": "stream",
     "text": [
      "[7.1215432e+01 4.9500000e-04 1.3200000e-04 1.1228710e+00 2.3976200e-01\n",
      " 6.0000000e-04 1.5713000e-02 7.4800000e-04 4.3414200e-01 7.6463800e-01\n",
      " 2.8369000e-01 3.3647500e-01 9.5866000e-02 6.5160000e-02 2.0213800e-01\n",
      " 8.1908000e-02 1.8749900e+00 4.3734000e-01 3.3075900e-01 1.2237560e+00\n",
      " 5.0679510e+00 2.2764140e+00 2.1360820e+00 1.0162760e+00 8.1256960e+00\n",
      " 7.9912800e-01 2.4412400e-01 5.6896200e-01 8.7020000e-03 8.4630000e-03\n",
      " 1.9257600e-01 2.0437000e-01 1.7259140e+00 7.5756800e-01 7.3611700e-01\n",
      " 1.1020760e+00 5.8698680e+00 2.8598080e+00 2.2075220e+00 4.0000000e-06\n",
      " 1.1265988e+01 4.2695360e+00 1.1325190e+00 8.3766000e-02 4.3347000e-02\n",
      " 3.0865620e+00 7.2321510e+00 2.5994000e-02 6.1558000e-02 6.8387000e-02\n",
      " 8.3266000e-02 5.0698000e-02 1.3060000e-03 3.0400000e-04 1.6474000e-02\n",
      " 5.5313000e-02 9.1986000e-02 8.9898000e-02 1.0942900e-01 4.0000000e-06\n",
      " 1.6950000e-03 1.3210000e-03 8.1200000e-03 4.9860000e-03]\n",
      "47\n"
     ]
    }
   ],
   "source": [
    "loss_components = []\n",
    "loss_idx = []\n",
    "for i in range(16):\n",
    "\n",
    "    data = np.loadtxt('Test/Test_Loss.%d.txt' % i)\n",
    "\n",
    "    loss_idx.append(data[:,0].argmin())\n",
    "    loss_components.append( data[loss_idx[-1], :] )\n",
    "\n",
    "components = np.array(loss_components)\n",
    "\n",
    "print(loss_components[3])\n",
    "print(loss_idx[3])"
   ]
  }
 ],
 "metadata": {
  "kernelspec": {
   "display_name": "base",
   "language": "python",
   "name": "python3"
  },
  "language_info": {
   "codemirror_mode": {
    "name": "ipython",
    "version": 3
   },
   "file_extension": ".py",
   "mimetype": "text/x-python",
   "name": "python",
   "nbconvert_exporter": "python",
   "pygments_lexer": "ipython3",
   "version": "3.11.4"
  },
  "orig_nbformat": 4
 },
 "nbformat": 4,
 "nbformat_minor": 2
}
