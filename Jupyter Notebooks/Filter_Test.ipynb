{
 "cells": [
  {
   "cell_type": "code",
   "execution_count": 12,
   "metadata": {},
   "outputs": [],
   "source": [
    "import numpy as np\n",
    "import os\n",
    "\n",
    "if os.getcwd() == '/Users/cd8607/Documents/Fitting_Potential':\n",
    "    pass\n",
    "else:\n",
    "    os.chdir('../')"
   ]
  },
  {
   "cell_type": "code",
   "execution_count": 16,
   "metadata": {},
   "outputs": [],
   "source": [
    "threshold = 1\n",
    "filtered_idx = []\n",
    "N = 100\n",
    "\n",
    "for file_num in range(16):\n",
    "    data = np.loadtxt('Explore_Space/samples_%d.txt' % file_num, skiprows=1)\n",
    "\n",
    "    # Get the indices that would sort the first row\n",
    "    sorted_indices = np.argsort(data[0, :])\n",
    "\n",
    "    # Apply the indices to sort the entire array\n",
    "    sorted_data = data[:, sorted_indices]\n",
    "\n",
    "    with open('Explore_Space/filtered_samples.%d.txt' % file_num, 'w') as file:\n",
    "\n",
    "        for idx in range(N):\n",
    "            np.savetxt(file, sorted_data[idx, 1:11], fmt = '%f', newline= ' ')\n",
    "            file.write('\\n')\n"
   ]
  },
  {
   "cell_type": "code",
   "execution_count": 14,
   "metadata": {},
   "outputs": [],
   "source": [
    "with open('filtered_samples.txt', 'w') as file:\n",
    "\n",
    "    for idx in filtered_idx:\n",
    "        np.savetxt(file, data[idx, 1:11], fmt = '%f', newline= ' ')\n",
    "        file.write('\\n')"
   ]
  },
  {
   "cell_type": "code",
   "execution_count": null,
   "metadata": {},
   "outputs": [],
   "source": []
  }
 ],
 "metadata": {
  "kernelspec": {
   "display_name": "base",
   "language": "python",
   "name": "python3"
  },
  "language_info": {
   "codemirror_mode": {
    "name": "ipython",
    "version": 3
   },
   "file_extension": ".py",
   "mimetype": "text/x-python",
   "name": "python",
   "nbconvert_exporter": "python",
   "pygments_lexer": "ipython3",
   "version": "3.11.4"
  }
 },
 "nbformat": 4,
 "nbformat_minor": 2
}
