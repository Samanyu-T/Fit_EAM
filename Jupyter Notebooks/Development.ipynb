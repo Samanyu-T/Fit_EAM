{
 "cells": [
  {
   "cell_type": "code",
   "execution_count": 1,
   "metadata": {},
   "outputs": [],
   "source": [
    "import os\n",
    "import numpy as np\n",
    "import json\n",
    "import matplotlib.pyplot as plt\n",
    "from sklearn.gaussian_process import kernels, GaussianProcessRegressor\n",
    "import pandas as pd\n",
    "import time\n",
    "if os.getcwd() == '/Users/cd8607/Documents/Fitting_Potential':\n",
    "    pass\n",
    "else:\n",
    "    os.chdir('../')"
   ]
  },
  {
   "cell_type": "code",
   "execution_count": 2,
   "metadata": {},
   "outputs": [],
   "source": [
    "whe = np.loadtxt('Potentials/W-He-Juslin.table',skiprows=6)[:,1:3]"
   ]
  },
  {
   "cell_type": "code",
   "execution_count": 3,
   "metadata": {},
   "outputs": [],
   "source": [
    "def ZBL(rij, Zi, Zj):\n",
    "    \n",
    "    e0 = 55.26349406e-4\n",
    "\n",
    "    const = 1/(4*np.pi*e0)\n",
    "\n",
    "    a = 0.46850/(Zi**0.23 + Zj**0.23)\t\n",
    "\n",
    "    x = rij/a\n",
    "\n",
    "    x = x[:, np.newaxis]\n",
    "\n",
    "    amplitude = np.array([0.18175, 0.50986, 0.28022, 0.02817])\n",
    "    exponent = np.array([3.19980, 0.94229, 0.40290, 0.20162])\n",
    "\n",
    "    phi = np.sum(amplitude * np.exp(-exponent * x), axis=1)\n",
    "         \n",
    "    return const*phi*(Zi*Zj/rij)\n",
    "\n",
    "def ZBL_approx(rij, Zi, Zj):\n",
    "    \n",
    "    e0 = 55.26349406e-4\n",
    "\n",
    "    const = 1/(4*np.pi*e0)\n",
    "\n",
    "    a = 0.46850/(Zi**0.23 + Zj**0.23)\t\n",
    "\n",
    "    x = rij/a\n",
    "\n",
    "    amplitude = np.array([0.18175, 0.50986, 0.28022, 0.02817])\n",
    "    exponent = np.array([3.19980, 0.94229, 0.40290, 0.20162])\n",
    "\n",
    "\n",
    "    phi = np.sum(amplitude) - np.sum(amplitude*exponent)*x\n",
    "    \n",
    "    print(np.sum(amplitude*exponent))\n",
    "    \n",
    "    return const*phi*(Zi*Zj/rij)"
   ]
  },
  {
   "cell_type": "code",
   "execution_count": 4,
   "metadata": {},
   "outputs": [],
   "source": [
    "class BayesOpt_PairPot():\n",
    "        \n",
    "    def __init__(self, n_params, Zi, Zj):\n",
    "\n",
    "        self.n_params = n_params\n",
    "\n",
    "        self.Zi = Zi\n",
    "        self.Zj = Zj\n",
    "\n",
    "        self.sample_params()\n",
    "\n",
    "        self.zbl_amplitude = np.array([0.18175, 0.50986, 0.28022, 0.02817])\n",
    "        self.zbl_exponent =  np.array([3.19980, 0.94229, 0.40290, 0.20162])\n",
    "    \n",
    "    def sample_params(self):\n",
    "\n",
    "        self.amplitude = np.random.normal(loc = 0, scale = 4, size = (self.n_params,))\n",
    "        self.mean  = np.linspace(0,1,self.n_params)\n",
    "        self.sigma = 0.3*np.ones((self.n_params,))\n",
    "\n",
    "        self.params = np.hstack([self.amplitude, self.mean, self.sigma])\n",
    "\n",
    "    def set_params(self, params):\n",
    "\n",
    "        self.amplitude = params[:self.n_params]\n",
    "        self.mean = params[self.n_params:2*self.n_params]\n",
    "        self.sigma = params[2*self.n_params:]\n",
    "\n",
    "\n",
    "    def eval(self, rij):\n",
    "            \n",
    "        e0 = 55.26349406e-4\n",
    "\n",
    "        const = 1/(4*np.pi*e0)\n",
    "\n",
    "        a = 0.46850/(self.Zi**0.23 + self.Zj**0.23)\t\n",
    "        \n",
    "        x = rij/a\n",
    "\n",
    "        x = x[:,np.newaxis]\n",
    "\n",
    "        phi = np.sum( self.zbl_amplitude* np.exp(-self.zbl_exponent * x), axis=1 )\n",
    "\n",
    "        return const*phi*(self.Zi*self.Zj/rij) + np.sum( (self.amplitude/(rij[:,np.newaxis]*self.sigma*np.sqrt(2*np.pi)))*np.exp(-(np.log(rij[:,np.newaxis])-self.mean)**2/(2*self.sigma**2)) , axis=1 )\n",
    "\n",
    "\n",
    "    def loss(self, x, y):\n",
    "\n",
    "        fx = self.eval(x)\n",
    "\n",
    "        return np.sum( ((y-fx)**2) )/len(x)\n",
    "    \n",
    "    def get_nsamples(self, n, rij, y):\n",
    "\n",
    "        sampled_loss = np.zeros((n,))\n",
    "        sampled_params = np.zeros((n, len(self.params)))\n",
    "\n",
    "        for i in range(n):\n",
    "            \n",
    "            self.sample_params()\n",
    "            sampled_loss[i]   = self.loss(rij, y)\n",
    "            sampled_params[i] = self.params\n",
    "\n",
    "        return sampled_loss, sampled_params"
   ]
  },
  {
   "cell_type": "code",
   "execution_count": 5,
   "metadata": {},
   "outputs": [],
   "source": [
    "Zi = 74\n",
    "Zj = 2\n",
    "\n",
    "rand = np.random.randint(low = 0, high = len(whe), size=(5,))\n",
    "\n",
    "rij = whe[rand,0]\n",
    "\n",
    "# zbl = ZBL(rij, Zi, Zj)\n",
    "zbl = whe[rand,1]\n",
    "\n",
    "opt = BayesOpt_PairPot(4, Zi, Zj)\n",
    "\n",
    "sampled_loss, sampled_params = opt.get_nsamples(1000, rij, zbl)\n"
   ]
  },
  {
   "cell_type": "code",
   "execution_count": 6,
   "metadata": {},
   "outputs": [
    {
     "name": "stdout",
     "output_type": "stream",
     "text": [
      "0.14886530755177646\n",
      "(array([ 1.57176879, -0.72591828,  0.36586346, -0.22744101]), array([0.        , 0.33333333, 0.66666667, 1.        ]), array([0.3, 0.3, 0.3, 0.3]))\n"
     ]
    },
    {
     "name": "stderr",
     "output_type": "stream",
     "text": [
      "/var/folders/s9/zg8t26bx2xg094_h3_f559v40000gp/T/ipykernel_66694/689390228.py:15: RuntimeWarning: divide by zero encountered in log\n",
      "  plt.scatter(np.log(whe[:,0]), np.log(whe[:,1]))\n"
     ]
    },
    {
     "data": {
      "image/png": "[encoded data removed]",
      "text/plain": [
       "<Figure size 640x480 with 1 Axes>"
      ]
     },
     "metadata": {},
     "output_type": "display_data"
    }
   ],
   "source": [
    "print(sampled_loss.min())\n",
    "\n",
    "min_params = sampled_params[sampled_loss.argmin()]\n",
    "\n",
    "opt.set_params(min_params)\n",
    "\n",
    "# rij = np.logspace(1,-7,100)\n",
    "\n",
    "# zbl = ZBL(rij, 1, 2)\n",
    "\n",
    "\n",
    "plty = opt.eval(whe[:,0])\n",
    "\n",
    "plt.scatter(np.log(whe[:,0]), np.log(np.abs(plty)))\n",
    "plt.scatter(np.log(whe[:,0]), np.log(whe[:,1]))\n",
    "\n",
    "print((opt.amplitude, opt.mean, opt.sigma))"
   ]
  },
  {
   "cell_type": "code",
   "execution_count": 7,
   "metadata": {},
   "outputs": [
    {
     "data": {
      "text/plain": [
       "[<matplotlib.lines.Line2D at 0x16ab20c10>]"
      ]
     },
     "execution_count": 7,
     "metadata": {},
     "output_type": "execute_result"
    },
    {
     "data": {
      "image/png": "[encoded data removed]",
      "text/plain": [
       "<Figure size 640x480 with 1 Axes>"
      ]
     },
     "metadata": {},
     "output_type": "display_data"
    }
   ],
   "source": [
    "rij = np.linspace(2, 6, 100)\n",
    "\n",
    "plt.plot(rij, ZBL(rij, 74, 2))\n",
    "plt.plot(rij, opt.eval(rij))\n",
    "plt.plot(whe[200:,0], whe[200:,1] )"
   ]
  },
  {
   "cell_type": "code",
   "execution_count": 8,
   "metadata": {},
   "outputs": [
    {
     "data": {
      "text/plain": [
       "[<matplotlib.lines.Line2D at 0x16aaec350>]"
      ]
     },
     "execution_count": 8,
     "metadata": {},
     "output_type": "execute_result"
    },
    {
     "data": {
      "image/png": "[encoded data removed]",
      "text/plain": [
       "<Figure size 640x480 with 1 Axes>"
      ]
     },
     "metadata": {},
     "output_type": "display_data"
    }
   ],
   "source": [
    "# plt.plot(whe[100:,0], whe[100:,1])\n",
    "plt.plot(whe[100:,0], ZBL(whe[100:,0], 74, 2) - whe[100:,1] )\n",
    "plt.plot(whe[100:,0], opt.eval(whe[100:,0]) - whe[100:,1] )"
   ]
  },
  {
   "cell_type": "code",
   "execution_count": 9,
   "metadata": {},
   "outputs": [],
   "source": [
    "import json \n",
    "\n",
    "with open('refs_formations.json', 'r') as ref_file:\n",
    "    ref_json = json.load(ref_file)\n",
    "\n",
    "with open('my_formations.json', 'r') as my_file:\n",
    "    my_json = json.load(my_file)\n",
    "\n",
    "formation = np.zeros((10,))\n",
    "relaxation = np.zeros((10,))\n",
    "positions = []\n",
    "\n",
    "idx = 0\n",
    "for n_vac in range(2):\n",
    "    for n_he in range(1,6):\n",
    "        formation[idx] = ref_json['V%dH0He%d' % (n_vac,n_he)]['dft']['val'][0]\n",
    "        relaxation[idx] = ref_json['V%dH0He%d' % (n_vac,n_he)]['r_vol_dft']['val'][0]\n",
    "        positions.append(my_json['V%dH0He%d' % (n_vac,n_he)]['xyz_opt'])\n",
    "        idx += 1\n",
    "\n",
    "\n"
   ]
  },
  {
   "cell_type": "code",
   "execution_count": 13,
   "metadata": {},
   "outputs": [
    {
     "name": "stdout",
     "output_type": "stream",
     "text": [
      "V0H0He1 V0H0He2\n",
      "V0H0He2 V0H0He3\n",
      "V1H0He0 V1H0He1\n",
      "V1H0He1 V1H0He2\n",
      "V1H0He2 V1H0He3\n",
      "V0H0He1 V0H1He1\n",
      "V0H0He2 V0H1He2\n",
      "V0H0He3 V0H1He3\n",
      "V1H0He1 V1H1He1\n",
      "V1H0He2 V1H1He2\n",
      "V1H0He3 V1H1He3\n",
      "False 0.36\n",
      "False 0.8\n",
      "False 1.16\n",
      "False -0.37\n",
      "False -0.24\n",
      "False -0.06\n",
      "False 0.14\n",
      "True None\n",
      "True None\n",
      "True None\n",
      "True None\n",
      "False -0.24\n",
      "True None\n",
      "True None\n",
      "True None\n"
     ]
    }
   ],
   "source": [
    "with open('refs_formations.json', 'r') as ref_file:\n",
    "    ref_json = json.load(ref_file)\n",
    "\n",
    "with open('my_formations.json', 'r') as my_file:\n",
    "    my_json = json.load(my_file)\n",
    "\n",
    "N_Vac = 1\n",
    "N_H = 1\n",
    "N_He = 3\n",
    "\n",
    "def data_dict(ref_json, my_json, N_Vac, N_H, N_He):\n",
    "\n",
    "    ref_dict = {}\n",
    "\n",
    "    for n_h in range(N_H+1):\n",
    "        for n_vac in range(N_Vac+1):\n",
    "            for n_he in range(N_He+1):\n",
    "                    \n",
    "                    if n_h + n_vac + n_he > 0 :\n",
    "                        \n",
    "                        key = 'V%dH%dHe%d' % (n_vac, n_h, n_he)\n",
    "\n",
    "                        ref_dict[key] = {}\n",
    "\n",
    "                        ref_dict[key]['val'] = ref_json['V%dH%dHe%d' % (n_vac, n_h, n_he)]['dft']['val'][0]\n",
    "\n",
    "                        if len(ref_json['V%dH%dHe%d' % (n_vac, n_h, n_he)]['r_vol_dft']['val']) > 0:\n",
    "                            ref_dict[key]['rvol'] = ref_json['V%dH%dHe%d' % (n_vac, n_h, n_he)]['r_vol_dft']['val'][0]\n",
    "                        else:\n",
    "                            ref_dict[key]['rvol'] = None\n",
    "\n",
    "                        ref_dict[key]['pos'] = my_json['V%dH%dHe%d' % (n_vac, n_h, n_he)]['xyz_opt']\n",
    "\n",
    "    return ref_dict\n",
    "\n",
    "def find_binding(df, defect, add_element, trend_element):\n",
    "\n",
    "    add_int = df['V%dH%dHe%d' % (add_element[0], add_element[1], add_element[2])]['val']\n",
    "    \n",
    "    defect = np.array(defect)\n",
    "\n",
    "    add_element = np.array(add_element)\n",
    "\n",
    "    trend_element = np.array(trend_element)\n",
    "\n",
    "    defect_next = defect + add_element\n",
    "\n",
    "    key_curr = 'V%dH%dHe%d' % (defect[0],defect[1], defect[2])\n",
    "\n",
    "    key_next = 'V%dH%dHe%d' % (defect_next[0],defect_next[1], defect_next[2])\n",
    "\n",
    "    init_config = []\n",
    "    final_config = []\n",
    "\n",
    "    while key_next in df.keys():\n",
    "        \n",
    "        print(key_curr, key_next)\n",
    "\n",
    "        init_config.append(df[key_curr]['val'])\n",
    "        \n",
    "        final_config.append(df[key_next]['val'])\n",
    "\n",
    "        defect += trend_element\n",
    "\n",
    "        defect_next += trend_element\n",
    "\n",
    "        key_curr = 'V%dH%dHe%d' % (defect[0],defect[1], defect[2])\n",
    "        \n",
    "        key_next = 'V%dH%dHe%d' % (defect_next[0],defect_next[1], defect_next[2])\n",
    "\n",
    "    init_config = np.array(init_config)\n",
    "\n",
    "    final_config = np.array(final_config)\n",
    "    \n",
    "    binding = add_int + init_config - final_config\n",
    "\n",
    "    return binding.tolist()\n",
    "\n",
    "def find_ref_binding(ref_df):\n",
    "\n",
    "    binding = []\n",
    "\n",
    "    binding.extend(find_binding(ref_df, [0, 0, 1], [0,0,1], [0,0,1]))\n",
    "    binding.extend(find_binding(ref_df, [1, 0, 0], [0,0,1], [0,0,1]))\n",
    "\n",
    "    binding.extend(find_binding(ref_df, [0, 0, 1], [0,1,0], [0,0,1]))\n",
    "    binding.extend(find_binding(ref_df, [1, 0, 1], [0,1,0], [0,0,1]))\n",
    "\n",
    "    return np.array(binding)\n",
    "\n",
    "\n",
    "toc = time.perf_counter()\n",
    "\n",
    "ref_dict = data_dict(ref_json, my_json, N_Vac, N_H, N_He)\n",
    "\n",
    "binding = find_ref_binding(ref_dict)\n",
    "\n",
    "for key in ref_dict:\n",
    "\n",
    "    print(ref_dict[key]['rvol'] is None, ref_dict[key]['rvol'])"
   ]
  },
  {
   "cell_type": "code",
   "execution_count": 15,
   "metadata": {},
   "outputs": [
    {
     "data": {
      "text/plain": [
       "0.15"
      ]
     },
     "execution_count": 15,
     "metadata": {},
     "output_type": "execute_result"
    }
   ],
   "source": [
    "3/20"
   ]
  }
 ],
 "metadata": {
  "kernelspec": {
   "display_name": "base",
   "language": "python",
   "name": "python3"
  },
  "language_info": {
   "codemirror_mode": {
    "name": "ipython",
    "version": 3
   },
   "file_extension": ".py",
   "mimetype": "text/x-python",
   "name": "python",
   "nbconvert_exporter": "python",
   "pygments_lexer": "ipython3",
   "version": "3.11.4"
  },
  "orig_nbformat": 4
 },
 "nbformat": 4,
 "nbformat_minor": 2
}
